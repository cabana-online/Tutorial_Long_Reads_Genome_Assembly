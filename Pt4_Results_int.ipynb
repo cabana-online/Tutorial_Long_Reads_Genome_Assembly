{
  "cells": [
    {
      "cell_type": "markdown",
      "metadata": {
        "id": "3t1K6J5OjeK8"
      },
      "source": [
        "# Part 4. Results interpretación  \n",
        "\n",
        "In this module we are goint to valuate all the output files created, it might be needed to check manuals: \n",
        "\n",
        "- Quast: https://quast.sourceforge.net/docs/manual.html\n",
        "- Busco: https://busco.ezlab.org/busco_userguide.html\n",
        "- gff3 format: https://www.ensembl.org/info/website/upload/gff3.html\n",
        "\n",
        "As output files of **NGSEP**, you will find:  \n",
        "\n",
        "- The presence/absence matrix for each of the orthogroups found.\n",
        "- The frequency of each orthogroup and its classification between core_genome and accessory_genome.\n",
        "- The ortho groups with the list of genes for each one\n",
        "- The files for visualization with SynVisio\n",
        "- The alignment of the genomes in html format"
      ]
    },
    {
      "cell_type": "markdown",
      "metadata": {},
      "source": [
        "### Now let’s visualize our assembly. \n",
        "\n",
        "#### SynVisio\n",
        "\n",
        "[SynVisio](https://synvisio.github.io/#/) is a web-based synteny viewer where you can view aligned genomes (the genome you aligned and the reference genome).\n",
        "\n",
        "1. Open the link https://synvisio.github.io/#/ \n",
        "\n",
        "2. In the tab “Upload own data to Dashboard” load your output files galn_SynvisioCollinearity.txt y galn_SynvisioAnnot.txt. \n",
        "\n",
        "3. Click on upload.\n",
        "\n",
        "4. Go back to the “Synteny Dashboard” Tab.\n",
        "\n",
        "5. Select source and target chromosomes to make contrasts. \n",
        "\n",
        "6. Explore your data visualization.\n",
        "\n",
        "\n",
        "####  D-GENIES\n",
        "D-Genies is a web-based tool for aligning genomes based on sequence. Go to the web portal https://dgenies.toulouse.inra.fr/, in the “Run” tab, load the two genomes you used in the previous step. Explore the visualizations of your data."
      ]
    }
  ],
  "metadata": {
    "colab": {
      "collapsed_sections": [
        "nSbSCPU-1FbT"
      ],
      "provenance": []
    },
    "kernelspec": {
      "display_name": "Python 3",
      "name": "python3"
    },
    "language_info": {
      "name": "python"
    }
  },
  "nbformat": 4,
  "nbformat_minor": 0
}
