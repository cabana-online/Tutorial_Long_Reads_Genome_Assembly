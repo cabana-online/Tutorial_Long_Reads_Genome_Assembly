{
  "cells": [
    {
      "cell_type": "markdown",
      "metadata": {
        "id": "5gnHM3m1WO2W"
      },
      "source": [
        "# Part 1. Introduction to Google Colaboratory\n",
        "\n",
        "Welcome to the course! Please before start, be organized with your files, create a Google Drive folder to save all the material of this course and upload all the ipynb downloaded from github.\n",
        "\n"
      ]
    },
    {
      "cell_type": "markdown",
      "metadata": {
        "id": "mUjmZOz0YGeX"
      },
      "source": [
        "### What is Google Collaboratory?\n",
        "Is a cloud-based platform free service offered by Google originally creaed to write and excecute Python code online. However with some tricks it might be usefull to excecute other languages and scripting code including bash and java. Let's learn some examples."
      ]
    },
    {
      "cell_type": "markdown",
      "metadata": {},
      "source": [
        "Please run the code block below by clicking the \"triangle\"/\"Play\" icon on that block"
      ]
    },
    {
      "cell_type": "code",
      "execution_count": null,
      "metadata": {
        "colab": {
          "base_uri": "https://localhost:8080/"
        },
        "id": "BqGFef0iWOBJ",
        "outputId": "0711b0fd-5b09-495c-e9eb-0a908daf83fd"
      },
      "outputs": [],
      "source": [
        "#python\n",
        "print(\"This is my first experience in Google Colab\")"
      ]
    },
    {
      "cell_type": "markdown",
      "metadata": {},
      "source": [
        "Remember that this course will primarily use BASH; -check those `!` lead characters"
      ]
    },
    {
      "cell_type": "code",
      "execution_count": null,
      "metadata": {
        "colab": {
          "base_uri": "https://localhost:8080/"
        },
        "id": "zQcDA516ZLy0",
        "outputId": "ce7b3c11-62f6-4c0d-834e-730b2f74bb41"
      },
      "outputs": [],
      "source": [
        "#bash\n",
        "!echo \"this is my first experience running bash code on colab\""
      ]
    },
    {
      "cell_type": "markdown",
      "metadata": {
        "id": "fEVvFzOrZfJK"
      },
      "source": [
        "### How to manage files in Colab?\n",
        "There are to ways to bring your files and process them with code here in colab:\n",
        "  1. The first one is to use the file manager at the left hand side icon, click on the three lines icon, then select the folder icon and navigate through your files ![Screenshot from 2024-12-19 09-50-18.png](data:image/png;base64,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)\n",
        "\n",
        "  2. Connect your drive to collab via comand line and upload the required files using code, let's try it!\n",
        "  \n",
        "\n"
      ]
    },
    {
      "cell_type": "code",
      "execution_count": null,
      "metadata": {
        "id": "RNtiMzxQaYlo"
      },
      "outputs": [],
      "source": [
        "#Conect to google drive home\n",
        "from google.colab import drive\n",
        "drive.mount('/content/drive', force_remount=True)"
      ]
    },
    {
      "cell_type": "code",
      "execution_count": null,
      "metadata": {
        "id": "a2ZRJ3-0aeMH"
      },
      "outputs": [],
      "source": [
        "#change directory to where the file is\n",
        "%cd /content/drive"
      ]
    },
    {
      "cell_type": "code",
      "execution_count": null,
      "metadata": {
        "id": "0fJ_Ed2CamNy"
      },
      "outputs": [],
      "source": [
        "#list the files on that folder\n",
        "!ls"
      ]
    },
    {
      "cell_type": "markdown",
      "metadata": {
        "id": "Jb2npawyasfv"
      },
      "source": [
        "## Be Careful\n",
        "\n",
        "Unfortunately, sessions have time and storage limit. Storage will only last up to 12 hours a day that why it is important to save your output files."
      ]
    }
  ],
  "metadata": {
    "colab": {
      "provenance": []
    },
    "kernelspec": {
      "display_name": "Python 3",
      "name": "python3"
    },
    "language_info": {
      "name": "python"
    }
  },
  "nbformat": 4,
  "nbformat_minor": 0
}
