{
  "cells": [
    {
      "cell_type": "markdown",
      "metadata": {
        "id": "3t1K6J5OjeK8"
      },
      "source": [
        "# Part 3. Hands-on over the genome assembly  \n",
        "\n",
        "Welcome to the hands-on tutorial! Here we will assemble two bacteria, an *E.coli* used for comparative genomics and a *Vibrio alginolyticus*, which plays a role in mangroves and was originally isolated in the Colombian Pacific (doi: 10.1128/spectrum.02928-23), it has the hability to create symbiotic relationships with other organisms, it is used as an indicator of species for monitoring pollution and eutrophication in coastal and estuarine waters, including mangroves.\n",
        "\n",
        "Please before start, be organized with your files, create a Google Drive folder to save all the material of this course and upload all the ipynb downloaded from github."
      ]
    },
    {
      "cell_type": "markdown",
      "metadata": {},
      "source": [
        "### Download data"
      ]
    },
    {
      "cell_type": "code",
      "execution_count": null,
      "metadata": {},
      "outputs": [],
      "source": [
        "!wget https://zenodo.org/records/14885059/files/long_reads_tutorial.tar.gz"
      ]
    },
    {
      "cell_type": "markdown",
      "metadata": {},
      "source": [
        "### Extract the .tar.gz file"
      ]
    },
    {
      "cell_type": "code",
      "execution_count": null,
      "metadata": {},
      "outputs": [],
      "source": [
        "!tar -xvf long_reads_tutorial.tar.gz"
      ]
    },
    {
      "cell_type": "code",
      "execution_count": null,
      "metadata": {},
      "outputs": [],
      "source": [
        "\n",
        "%cd long_reads_tutorial"
      ]
    },
    {
      "cell_type": "code",
      "execution_count": null,
      "metadata": {
        "colab": {
          "base_uri": "https://localhost:8080/"
        },
        "id": "m-4g5k2kDS-S",
        "outputId": "c5236c58-db66-40ae-b0ec-0bfa3ecc4132"
      },
      "outputs": [],
      "source": [
        "#We can list the files in that folder\n",
        "!ls"
      ]
    },
    {
      "cell_type": "markdown",
      "metadata": {
        "id": "nSbSCPU-1FbT"
      },
      "source": [
        "## Genome assembly using NGSEP"
      ]
    },
    {
      "cell_type": "markdown",
      "metadata": {
        "id": "H4B2pk9H1wig"
      },
      "source": [
        "Para ejecutar el jar se requiere, previamente, cargar el módulo de Java. De esta manera podrá hacer la ejecución del siguiente comando, el cual permitirá ver los diferentes algoritmos que integran NGSEP\n"
      ]
    },
    {
      "cell_type": "code",
      "execution_count": null,
      "metadata": {
        "colab": {
          "base_uri": "https://localhost:8080/"
        },
        "id": "Ctmf6xRB141f",
        "outputId": "366a71b2-21d0-4f31-e03d-8c2e385ace74"
      },
      "outputs": [],
      "source": [
        "#This takes about 3 seconds\n",
        "!java -jar NGSEPcore_5.0.0.jar"
      ]
    },
    {
      "cell_type": "markdown",
      "metadata": {},
      "source": [
        "You will get the following output:\n",
        "\n",
        "![image](./images/ngsep.png)"
      ]
    },
    {
      "cell_type": "markdown",
      "metadata": {
        "id": "V09oZ4n02R4s"
      },
      "source": [
        "To visualize the assembler options, run:"
      ]
    },
    {
      "cell_type": "code",
      "execution_count": null,
      "metadata": {
        "colab": {
          "base_uri": "https://localhost:8080/"
        },
        "id": "8ceVyioW19cD",
        "outputId": "99771571-616c-43ae-d9f1-d23297551001"
      },
      "outputs": [],
      "source": [
        "!java -jar NGSEPcore_5.0.0.jar Assembler"
      ]
    },
    {
      "cell_type": "markdown",
      "metadata": {},
      "source": [
        "You will get the following output:\n",
        "\n",
        "![image](./images/ngsep_2.png)"
      ]
    },
    {
      "cell_type": "markdown",
      "metadata": {
        "id": "TCRtZHikcj8p"
      },
      "source": [
        "## *Vibrio alginolitycus* Assembly - Nanopore sequencing from a Colombian Sample   "
      ]
    },
    {
      "cell_type": "code",
      "execution_count": null,
      "metadata": {
        "colab": {
          "background_save": true,
          "base_uri": "https://localhost:8080/"
        },
        "id": "LxiPzAs4d-kM",
        "outputId": "686969c8-59bb-4e14-a370-3477750d4863"
      },
      "outputs": [],
      "source": [
        "#Runs in about 35 minutes\n",
        "!java -XX:+UseSerialGC -Xmx12g -jar NGSEPcore_5.0.0.jar Assembler -i data/SRR31094202_m10k_q15_Valginolyticus_nanopore.fastq.gz -o Valginolyticus_nanopore_ngsep"
      ]
    },
    {
      "cell_type": "markdown",
      "metadata": {},
      "source": [
        "After 35 minutes You will get the following output:\n",
        "\n",
        "![image](./images/ngsep_3.png)"
      ]
    },
    {
      "cell_type": "markdown",
      "metadata": {
        "id": "qF8gfj32q646"
      },
      "source": [
        "## Quality Evaluation\n",
        "\n",
        "The results obtained by assemblers may incur errors that undermine the quality of the assemblies, which is why it is necessary to review the quality of the results. In this section, the QUAST and BUSCO tools will be used, which will allow the quality of the genomic assemblies to be analyzed."
      ]
    },
    {
      "cell_type": "code",
      "execution_count": null,
      "metadata": {
        "colab": {
          "background_save": true,
          "base_uri": "https://localhost:8080/"
        },
        "id": "K_jKBl-ZnDg9",
        "outputId": "381cbdf9-3f8b-4d30-c8ea-c5f3e77d4ac6"
      },
      "outputs": [],
      "source": [
        "#Takes around 30 seconds\n",
        "!pip install quast"
      ]
    },
    {
      "cell_type": "code",
      "execution_count": null,
      "metadata": {
        "colab": {
          "background_save": true,
          "base_uri": "https://localhost:8080/"
        },
        "id": "t028GT-ipFyJ",
        "outputId": "a7bc8748-1811-4372-8f41-0a06fb9e14dd"
      },
      "outputs": [],
      "source": [
        "!quast.py -t 4 Valginolyticus_nanopore_ngsep.fa data/Vibrioalginolyticus_ASM2365091v1.fna"
      ]
    },
    {
      "cell_type": "markdown",
      "metadata": {},
      "source": [
        "You will get the following output:\n",
        "\n",
        "![image](./images/quast.png)"
      ]
    },
    {
      "cell_type": "markdown",
      "metadata": {},
      "source": [
        "## Let's install BUSCO"
      ]
    },
    {
      "cell_type": "markdown",
      "metadata": {},
      "source": [
        "First, we need to install a Colab version of Conda:"
      ]
    },
    {
      "cell_type": "code",
      "execution_count": null,
      "metadata": {},
      "outputs": [],
      "source": [
        "!pip install -q condacolab\n",
        "import condacolab\n",
        "condacolab.install()"
      ]
    },
    {
      "cell_type": "code",
      "execution_count": null,
      "metadata": {
        "colab": {
          "background_save": true
        },
        "id": "URzh7C9VUj4N",
        "outputId": "0e4b8090-5841-4e6d-ea09-fe4dc8eff00b"
      },
      "outputs": [],
      "source": [
        "#This takes about 4 minutes\n",
        "!conda install bioconda::busco"
      ]
    },
    {
      "cell_type": "code",
      "execution_count": null,
      "metadata": {
        "colab": {
          "background_save": true
        },
        "id": "MiJJS_rwp6qF",
        "outputId": "cf0b2eab-3fd3-4843-eb6b-9334746aed8c"
      },
      "outputs": [],
      "source": [
        "#Takes about 20 seconds\n",
        "!run_BUSCO.py -i Valginolyticus_nanopore_ngsep.fa -m genome -l bacteria_odb10 -o valginolyticus_ngsep_busco"
      ]
    },
    {
      "cell_type": "markdown",
      "metadata": {
        "id": "Dn2fNpd2avLN"
      },
      "source": [
        "## Gene annotation\n",
        "We will use prodigal (PROkaryotic DYnamic programming Gene-finding ALgorithm) a gene prediction software, that is utilized for prokaryotic genomes, it identifys genes and translation initiation sites creating a gff3 format file."
      ]
    },
    {
      "cell_type": "code",
      "execution_count": null,
      "metadata": {
        "colab": {
          "background_save": true
        },
        "id": "KOtBmiy7Zq4I",
        "outputId": "7dac6c1e-66ec-4bb2-d2e9-9c9b2a2d1754"
      },
      "outputs": [],
      "source": [
        "!conda install bioconda::prodigal"
      ]
    },
    {
      "cell_type": "code",
      "execution_count": null,
      "metadata": {
        "colab": {
          "background_save": true
        },
        "id": "vphDAD7KtABq",
        "outputId": "b0603ca2-a1da-438c-dad4-1112e252c8fd"
      },
      "outputs": [],
      "source": [
        "#takes about 15 seconds\n",
        "!prodigal -f gff -i Valginolyticus_nanopore_ngsep.fa -o Valginolyticus_nanopore_ngsep.gff3"
      ]
    },
    {
      "cell_type": "markdown",
      "metadata": {
        "id": "HhJSDOj8a2Ub"
      },
      "source": [
        "## Alignment and genome comparison\n",
        "We will use NGSEP GenomesAligner, it allows to align genomes based on gene synteny"
      ]
    },
    {
      "cell_type": "code",
      "execution_count": null,
      "metadata": {
        "id": "q_uiTDu4-MVd"
      },
      "outputs": [],
      "source": [
        "#Takes about 1 minute\n",
        "!java -XX:+UseSerialGC -Xmx12g -jar NGSEPcore_5.0.0.jar GenomesAligner -o galn Valginolyticus_nanopore_ngsep.fa Valginolyticus_nanopore_ngsep.gff3 data/Vibrioalginolyticus_ASM2365091v1.fna data/Vibrioalginolyticus_ASM2365091v1.gff3\n"
      ]
    }
  ],
  "metadata": {
    "colab": {
      "collapsed_sections": [
        "nSbSCPU-1FbT"
      ],
      "provenance": []
    },
    "kernelspec": {
      "display_name": "Python 3",
      "name": "python3"
    },
    "language_info": {
      "name": "python"
    }
  },
  "nbformat": 4,
  "nbformat_minor": 0
}
