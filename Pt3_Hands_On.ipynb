{
  "cells": [
    {
      "cell_type": "markdown",
      "metadata": {
        "id": "3t1K6J5OjeK8"
      },
      "source": [
        "# Part 3. Hands-on over the genome assembly  \n",
        "\n",
        "Welcome to the hands-on tutorial! Here we will assemble *Vibrio alginolyticus*, which plays a role in mangroves and was originally isolated in the Colombian Pacific (doi: 10.1128/spectrum.02928-23), it has the ability to create symbiotic relationships with other organisms, it is used as an indicator of species for monitoring pollution and eutrophication in coastal and estuarine waters, including mangroves.\n",
        "\n",
        "Please before start, be organized with your files, create a Google Drive folder to save all the material of this course and upload all the .ipynb downloaded from github."
      ]
    },
    {
      "cell_type": "markdown",
      "metadata": {},
      "source": [
        "### Install condacolab"
      ]
    },
    {
      "cell_type": "code",
      "execution_count": null,
      "metadata": {},
      "outputs": [],
      "source": [
        "# install condacolab, a version of conda that runs in Google Colab\n",
        "\n",
        "!pip install -q condacolab\n",
        "import condacolab\n",
        "condacolab.install()"
      ]
    },
    {
      "cell_type": "markdown",
      "metadata": {},
      "source": [
        "\n",
        "### Install software"
      ]
    },
    {
      "cell_type": "code",
      "execution_count": null,
      "metadata": {},
      "outputs": [],
      "source": [
        "#Takes around 30 seconds\n",
        "!pip install quast"
      ]
    },
    {
      "cell_type": "code",
      "execution_count": null,
      "metadata": {},
      "outputs": [],
      "source": [
        "#This takes about 4 minutes\n",
        "!conda install bioconda::busco"
      ]
    },
    {
      "cell_type": "code",
      "execution_count": null,
      "metadata": {},
      "outputs": [],
      "source": [
        "!conda install bioconda::prodigal"
      ]
    },
    {
      "cell_type": "markdown",
      "metadata": {},
      "source": [
        "### Download data"
      ]
    },
    {
      "cell_type": "code",
      "execution_count": null,
      "metadata": {},
      "outputs": [],
      "source": [
        "!wget https://zenodo.org/records/14969215/files/long_reads_assembly.tar.gz"
      ]
    },
    {
      "cell_type": "markdown",
      "metadata": {},
      "source": [
        "### Extract the .tar.gz file"
      ]
    },
    {
      "cell_type": "code",
      "execution_count": null,
      "metadata": {},
      "outputs": [],
      "source": [
        "!tar -xvf long_reads_assembly.tar.gz"
      ]
    },
    {
      "cell_type": "code",
      "execution_count": null,
      "metadata": {},
      "outputs": [],
      "source": [
        "#Go to the tutorial data folder\n",
        "#In Google Colab, you must use '%' cd command to change directories.\n",
        "%cd long_reads_assembly"
      ]
    },
    {
      "cell_type": "code",
      "execution_count": null,
      "metadata": {
        "colab": {
          "base_uri": "https://localhost:8080/"
        },
        "id": "m-4g5k2kDS-S",
        "outputId": "c5236c58-db66-40ae-b0ec-0bfa3ecc4132"
      },
      "outputs": [],
      "source": [
        "#We can list the files in that folder\n",
        "!ls"
      ]
    },
    {
      "cell_type": "markdown",
      "metadata": {
        "id": "nSbSCPU-1FbT"
      },
      "source": [
        "## Genome assembly using NGSEP"
      ]
    },
    {
      "cell_type": "markdown",
      "metadata": {
        "id": "H4B2pk9H1wig"
      },
      "source": [
        "To run the JAR file, you must first load the Java module. This will allow you to execute the following command, which will display the different algorithms included in NGSEP."
      ]
    },
    {
      "cell_type": "code",
      "execution_count": null,
      "metadata": {
        "colab": {
          "base_uri": "https://localhost:8080/"
        },
        "id": "Ctmf6xRB141f",
        "outputId": "366a71b2-21d0-4f31-e03d-8c2e385ace74"
      },
      "outputs": [],
      "source": [
        "#This takes about 3 seconds\n",
        "!java -jar NGSEPcore_5.0.0.jar"
      ]
    },
    {
      "cell_type": "markdown",
      "metadata": {},
      "source": [
        "You will get the following output:\n",
        "\n",
        "![image](./images/ngsep.png)"
      ]
    },
    {
      "cell_type": "markdown",
      "metadata": {
        "id": "V09oZ4n02R4s"
      },
      "source": [
        "To visualize the assembler options, run:"
      ]
    },
    {
      "cell_type": "code",
      "execution_count": null,
      "metadata": {
        "colab": {
          "base_uri": "https://localhost:8080/"
        },
        "id": "8ceVyioW19cD",
        "outputId": "99771571-616c-43ae-d9f1-d23297551001"
      },
      "outputs": [],
      "source": [
        "!java -jar NGSEPcore_5.0.0.jar Assembler"
      ]
    },
    {
      "cell_type": "markdown",
      "metadata": {},
      "source": [
        "You will get the following output:\n",
        "\n",
        "![image](./images/ngsep_2.png)"
      ]
    },
    {
      "cell_type": "markdown",
      "metadata": {
        "id": "TCRtZHikcj8p"
      },
      "source": [
        "## *Vibrio alginolitycus* Assembly - Nanopore sequencing from a Colombian Sample   "
      ]
    },
    {
      "cell_type": "code",
      "execution_count": null,
      "metadata": {
        "colab": {
          "background_save": true,
          "base_uri": "https://localhost:8080/"
        },
        "id": "LxiPzAs4d-kM",
        "outputId": "686969c8-59bb-4e14-a370-3477750d4863"
      },
      "outputs": [],
      "source": [
        "#Runs in about 35 minutes\n",
        "!java -XX:+UseSerialGC -Xmx12g -jar NGSEPcore_5.0.0.jar Assembler -i SRR31094202_m10k_q15_Valginolyticus_nanopore.fastq.gz -o Valginolyticus_nanopore_ngsep"
      ]
    },
    {
      "cell_type": "markdown",
      "metadata": {},
      "source": [
        "After 35 minutes You will get the following output:\n",
        "\n",
        "![image](./images/ngsep_3.png)"
      ]
    },
    {
      "cell_type": "markdown",
      "metadata": {
        "id": "qF8gfj32q646"
      },
      "source": [
        "## Quality Evaluation\n",
        "\n",
        "The results obtained by assemblers may incur errors that undermine the quality of the assemblies, which is why it is necessary to review the quality of the results. In this section, the QUAST and BUSCO tools will be used, which will allow the quality of the genomic assemblies to be analyzed."
      ]
    },
    {
      "cell_type": "code",
      "execution_count": null,
      "metadata": {
        "colab": {
          "background_save": true,
          "base_uri": "https://localhost:8080/"
        },
        "id": "t028GT-ipFyJ",
        "outputId": "a7bc8748-1811-4372-8f41-0a06fb9e14dd"
      },
      "outputs": [],
      "source": [
        "!quast.py -t 4 Valginolyticus_nanopore_ngsep.fa Vibrioalginolyticus_ASM2365091v1.fna"
      ]
    },
    {
      "cell_type": "markdown",
      "metadata": {},
      "source": [
        "You will get the following output:\n",
        "\n",
        "![image](./images/quast.png)"
      ]
    },
    {
      "cell_type": "markdown",
      "metadata": {},
      "source": [
        "Now, let's run BUSCO: "
      ]
    },
    {
      "cell_type": "code",
      "execution_count": null,
      "metadata": {
        "colab": {
          "background_save": true
        },
        "id": "MiJJS_rwp6qF",
        "outputId": "cf0b2eab-3fd3-4843-eb6b-9334746aed8c"
      },
      "outputs": [],
      "source": [
        "#Takes about 20 seconds\n",
        "!run_BUSCO.py -i Valginolyticus_nanopore_ngsep.fa -m genome -l bacteria_odb10 -o valginolyticus_ngsep_busco"
      ]
    },
    {
      "cell_type": "markdown",
      "metadata": {},
      "source": [
        "If it was not possible to run BUSCO in Google Colab, the output files can be found in the `valginolyticus_ngsep_busco` folder."
      ]
    },
    {
      "cell_type": "code",
      "execution_count": null,
      "metadata": {},
      "outputs": [],
      "source": [
        "#Go to the folder\n",
        "%cd valvalginolyticus_ngsep_busco"
      ]
    },
    {
      "cell_type": "code",
      "execution_count": null,
      "metadata": {},
      "outputs": [],
      "source": [
        "#List the files\n",
        "!ls"
      ]
    },
    {
      "cell_type": "code",
      "execution_count": null,
      "metadata": {},
      "outputs": [],
      "source": [
        "#Open the file short_summary.specific.bacteria_odb10.valginolyticus_ngsep_busco.txt\n",
        "!cat short_summary.specific.bacteria_odb10.valginolyticus_ngsep_busco.txt"
      ]
    },
    {
      "cell_type": "markdown",
      "metadata": {},
      "source": [
        "You will get the following output:\n",
        "\n",
        "![image](./images/BUSCO.png)"
      ]
    },
    {
      "cell_type": "markdown",
      "metadata": {},
      "source": [
        "In this report you can find the assembly statistics:\n",
        "\n",
        "- Number of scaffolds: Total number of scaffolds in the assembly. More scaffolds  indicate a more fragmented assembly.\n",
        "- Number of contigs: Total number of contigs in the assembly. A higher number indicates fragmentation.\n",
        "- Total length\n",
        "- Percent gaps\n",
        "- Scaffold N50: Length of the shortest scaffold among the largest scaffolds that together make up at least 50% of the total assembly length.\n",
        "- Contigs N50: Length of the shortest contig among the largest contigs that together make up at least 50% of the total assembly length. "
      ]
    },
    {
      "cell_type": "markdown",
      "metadata": {
        "id": "Dn2fNpd2avLN"
      },
      "source": [
        "## Gene annotation\n",
        "We will use prodigal (PROkaryotic DYnamic programming Gene-finding ALgorithm) a gene prediction software, that is utilized for prokaryotic genomes, it identifys genes and translation initiation sites creating a gff3 format file."
      ]
    },
    {
      "cell_type": "code",
      "execution_count": null,
      "metadata": {},
      "outputs": [],
      "source": [
        "#Go back to the data folder\n",
        "%cd .."
      ]
    },
    {
      "cell_type": "code",
      "execution_count": null,
      "metadata": {
        "colab": {
          "background_save": true
        },
        "id": "vphDAD7KtABq",
        "outputId": "b0603ca2-a1da-438c-dad4-1112e252c8fd"
      },
      "outputs": [],
      "source": [
        "#takes about 15 seconds\n",
        "!prodigal -f gff -i Valginolyticus_nanopore_ngsep.fa -o Valginolyticus_nanopore_ngsep.gff3"
      ]
    },
    {
      "cell_type": "code",
      "execution_count": null,
      "metadata": {},
      "outputs": [],
      "source": [
        "#List the files\n",
        "!ls"
      ]
    },
    {
      "cell_type": "markdown",
      "metadata": {
        "id": "HhJSDOj8a2Ub"
      },
      "source": [
        "## Alignment and genome comparison\n",
        "We will use NGSEP GenomesAligner, it allows to align genomes based on gene synteny"
      ]
    },
    {
      "cell_type": "code",
      "execution_count": null,
      "metadata": {
        "id": "q_uiTDu4-MVd"
      },
      "outputs": [],
      "source": [
        "#Takes about 1 minute\n",
        "!java -XX:+UseSerialGC -Xmx12g -jar NGSEPcore_5.0.0.jar GenomesAligner -o galn Valginolyticus_nanopore_ngsep.fa Valginolyticus_nanopore_ngsep.gff3 Vibrioalginolyticus_ASM2365091v1.fna Vibrioalginolyticus_ASM2365091v1.gff3"
      ]
    },
    {
      "cell_type": "code",
      "execution_count": null,
      "metadata": {},
      "outputs": [],
      "source": [
        "#List the files\n",
        "!ls"
      ]
    },
    {
      "cell_type": "markdown",
      "metadata": {},
      "source": [
        "_____________________________"
      ]
    },
    {
      "cell_type": "markdown",
      "metadata": {},
      "source": [
        "# Results interpretation  \n",
        "\n",
        "In this module we are goint to valuate all the output files created, it might be needed to check manuals: \n",
        "\n",
        "- Quast: https://quast.sourceforge.net/docs/manual.html\n",
        "- Busco: https://busco.ezlab.org/busco_userguide.html\n",
        "- gff3 format: https://www.ensembl.org/info/website/upload/gff3.html\n",
        "\n",
        "As output files of **NGSEP**, you will find:  \n",
        "\n",
        "- The presence/absence matrix for each of the orthogroups found.\n",
        "- The frequency of each orthogroup and its classification between core_genome and accessory_genome.\n",
        "- The ortho groups with the list of genes for each one\n",
        "- The files for visualization with SynVisio\n",
        "- The alignment of the genomes in html format"
      ]
    },
    {
      "cell_type": "markdown",
      "metadata": {},
      "source": [
        "### Now let’s visualize our assembly. \n",
        "\n",
        "#### SynVisio\n",
        "\n",
        "[SynVisio](https://synvisio.github.io/#/) is a web-based synteny viewer where you can view aligned genomes (the genome you aligned and the reference genome).\n",
        "\n",
        "1. Open the link https://synvisio.github.io/#/ \n",
        "\n",
        "![image](./images/synvisio.png)\n",
        "\n",
        "2. In the tab “Upload own data to Dashboard” load your output files galn_SynvisioCollinearity.txt y galn_SynvisioAnnot.txt. \n",
        "\n",
        "![image](./images/synvisio2.png)\n",
        "\n",
        "3. Click on upload.\n",
        "\n",
        "![image](./images/synvisio3.png)\n",
        "\n",
        "4. Go back to the “Synteny Dashboard” Tab.\n",
        "\n",
        "5. Select source and target chromosomes to make contrasts. \n",
        "\n",
        "![image](./images/synvisio4.png)\n",
        "\n",
        "6. Explore your data visualization.\n",
        "\n",
        "![image](./images/synvisio5.png)\n",
        "\n",
        "\n",
        "####  D-GENIES\n",
        "D-Genies is a web-based tool for aligning genomes based on sequence. Go to the web portal https://dgenies.toulouse.inra.fr/, in the “Run” tab, load the two genomes you used in the previous step. Explore the visualizations of your data."
      ]
    }
  ],
  "metadata": {
    "colab": {
      "collapsed_sections": [
        "nSbSCPU-1FbT"
      ],
      "provenance": []
    },
    "kernelspec": {
      "display_name": "Python 3",
      "name": "python3"
    },
    "language_info": {
      "name": "python"
    }
  },
  "nbformat": 4,
  "nbformat_minor": 0
}
